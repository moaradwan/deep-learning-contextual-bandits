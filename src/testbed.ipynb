{
 "cells": [
  {
   "cell_type": "code",
   "execution_count": null,
   "metadata": {},
   "outputs": [],
   "source": [
    "# !mkdir ../data\n",
    "# !wget https://research.zozo.com/data_release/open_bandit_dataset.zip ../data/"
   ]
  },
  {
   "cell_type": "code",
   "execution_count": null,
   "id": "0dc0a8af",
   "metadata": {
    "ExecuteTime": {
     "end_time": "2021-05-16T01:19:17.996025Z",
     "start_time": "2021-05-16T01:19:17.993517Z"
    }
   },
   "outputs": [],
   "source": [
    "# !pip install tf-agents==0.7.1\n",
    "# !pip install gast==0.3.3\n",
    "# !pip install deepctr[cpu]\n"
   ]
  },
  {
   "cell_type": "code",
   "execution_count": null,
   "id": "e284f86f",
   "metadata": {
    "ExecuteTime": {
     "end_time": "2021-05-16T01:19:24.777273Z",
     "start_time": "2021-05-16T01:19:17.998250Z"
    }
   },
   "outputs": [],
   "source": [
    "from tf_agents.bandits.agents import lin_ucb_agent\n",
    "from tf_agents.bandits.policies import policy_utilities\n",
    "\n",
    "import tensorflow as tf\n",
    "import numpy as np\n",
    "import environment\n",
    "import ann\n",
    "import trainer\n",
    "from tf_agents.bandits.agents import neural_linucb_agent\n",
    "\n"
   ]
  },
  {
   "cell_type": "code",
   "execution_count": null,
   "id": "e29faf71",
   "metadata": {
    "ExecuteTime": {
     "end_time": "2021-05-16T01:19:24.781911Z",
     "start_time": "2021-05-16T01:19:24.779219Z"
    }
   },
   "outputs": [],
   "source": [
    "input_shape = 103\n",
    "sample_rate = 1.0\n",
    "batch_size = 10\n",
    "obd_path=\"../data/open_bandit_dataset.zip\"\n"
   ]
  },
  {
   "cell_type": "code",
   "execution_count": null,
   "id": "ff9b0e5d",
   "metadata": {
    "ExecuteTime": {
     "end_time": "2021-05-16T01:19:30.122946Z",
     "start_time": "2021-05-16T01:19:24.783852Z"
    },
    "code_folding": [],
    "scrolled": true
   },
   "outputs": [],
   "source": [
    "tf.random.set_seed(\n",
    "    44444\n",
    ")\n",
    "np.random.seed(\n",
    "    44444\n",
    ")\n",
    "\n",
    "env = environment.make_env(obd_path=obd_path, output_shape=input_shape, sample_rate=sample_rate, batch_size=batch_size)\n",
    "lin_agent = lin_ucb_agent.LinearUCBAgent(\n",
    "                time_step_spec=env.time_step_spec(),\n",
    "                action_spec=env.action_spec(),\n",
    "                debug_summaries=True,\n",
    "                summarize_grads_and_vars=True,\n",
    "                emit_policy_info=policy_utilities.InfoFields.PREDICTED_REWARDS_MEAN,\n",
    "                emit_log_probability=False,\n",
    "                dtype=tf.float32)\n",
    "!mkdir experiments/\n",
    "!mkdir ../experiments/linear_linucb\n",
    "!rm -R ../experiments/linear_linucb/*\n",
    "trainer.train(lin_agent, env, 450, 100, \"../experiments/linear_linucb/\")\n"
   ]
  },
  {
   "cell_type": "code",
   "execution_count": null,
   "metadata": {},
   "outputs": [],
   "source": [
    "tf.random.set_seed(\n",
    "    44444\n",
    ")\n",
    "np.random.seed(\n",
    "    44444\n",
    ")\n",
    "\n",
    "dcn4_network = ann.get_dcn_network(input_shape, cross_num=4)\n",
    "encoding_shape = dcn4_network.model.layers[-1].output_shape[1]\n",
    "env = environment.make_env(obd_path=obd_path, output_shape=input_shape, sample_rate=sample_rate, batch_size=batch_size)\n",
    "dcn4_100_step_agent = neural_linucb_agent.NeuralLinUCBAgent(\n",
    "        time_step_spec=env.time_step_spec(),\n",
    "        action_spec=env.action_spec(),\n",
    "        encoding_network=dcn4_network,\n",
    "        encoding_network_num_train_steps=100,\n",
    "        encoding_dim=encoding_shape,\n",
    "        optimizer=tf.compat.v1.train.AdamOptimizer(learning_rate=0.05),\n",
    "        alpha=1.0,\n",
    "        gamma=1.0,\n",
    "        epsilon_greedy=0.5,\n",
    "        debug_summaries=True,\n",
    "        summarize_grads_and_vars=True,\n",
    "        emit_policy_info=policy_utilities.InfoFields.PREDICTED_REWARDS_MEAN)\n",
    "!mkdir experiments/\n",
    "!mkdir ../experiments/neural_dcn4_100_steps\n",
    "!rm -R ../experiments/neural_dcn4_100_steps/*\n",
    "trainer.train(dcn4_100_step_agent, env, 450, 100, \"../experiments/neural_dcn4_100_steps/\")\n"
   ]
  },
  {
   "cell_type": "code",
   "execution_count": null,
   "id": "b0a2e297",
   "metadata": {
    "ExecuteTime": {
     "end_time": "2021-05-16T01:19:30.471814Z",
     "start_time": "2021-05-16T01:19:30.125176Z"
    },
    "scrolled": false
   },
   "outputs": [],
   "source": [
    "tf.random.set_seed(\n",
    "    44444\n",
    ")\n",
    "np.random.seed(\n",
    "    44444\n",
    ")\n",
    "\n",
    "dcn4_network = ann.get_dcn_network(input_shape, cross_num=4)\n",
    "encoding_shape = dcn4_network.model.layers[-1].output_shape[1]\n",
    "env = environment.make_env(obd_path=obd_path, output_shape=input_shape, sample_rate=sample_rate, batch_size=batch_size)\n",
    "dcn4_50_step_agent = neural_linucb_agent.NeuralLinUCBAgent(\n",
    "        time_step_spec=env.time_step_spec(),\n",
    "        action_spec=env.action_spec(),\n",
    "        encoding_network=dcn4_network,\n",
    "        encoding_network_num_train_steps=50,\n",
    "        encoding_dim=encoding_shape,\n",
    "        optimizer=tf.compat.v1.train.AdamOptimizer(learning_rate=0.05),\n",
    "        alpha=1.0,\n",
    "        gamma=1.0,\n",
    "        epsilon_greedy=0.5,\n",
    "        debug_summaries=True,\n",
    "        summarize_grads_and_vars=True,\n",
    "        emit_policy_info=policy_utilities.InfoFields.PREDICTED_REWARDS_MEAN)\n",
    "!mkdir experiments/\n",
    "!mkdir ../experiments/neural_dcn4_50_steps\n",
    "!rm -R ../experiments/neural_dcn4_50_steps/*\n",
    "trainer.train(dcn4_50_step_agent, env, 450, 100, \"../experiments/neural_dcn4_50_steps/\")\n"
   ]
  },
  {
   "cell_type": "code",
   "execution_count": null,
   "id": "1ae9724e",
   "metadata": {
    "ExecuteTime": {
     "end_time": "2021-05-16T01:19:30.482078Z",
     "start_time": "2021-05-16T01:19:30.480015Z"
    }
   },
   "outputs": [],
   "source": [
    "tf.random.set_seed(\n",
    "    44444\n",
    ")\n",
    "np.random.seed(\n",
    "    44444\n",
    ")\n",
    "\n",
    "dcn3_network = ann.get_dcn_network(input_shape, cross_num=3)\n",
    "encoding_shape = dcn3_network.model.layers[-1].output_shape[1]\n",
    "env = environment.make_env(obd_path=obd_path, output_shape=input_shape, sample_rate=sample_rate, batch_size=batch_size)\n",
    "dcn3_100_step_agent = neural_linucb_agent.NeuralLinUCBAgent(\n",
    "        time_step_spec=env.time_step_spec(),\n",
    "        action_spec=env.action_spec(),\n",
    "        encoding_network=dcn3_network,\n",
    "        encoding_network_num_train_steps=100,\n",
    "        encoding_dim=encoding_shape,\n",
    "        optimizer=tf.compat.v1.train.AdamOptimizer(learning_rate=0.05),\n",
    "        alpha=1.0,\n",
    "        gamma=1.0,\n",
    "        epsilon_greedy=0.5,\n",
    "        debug_summaries=True,\n",
    "        summarize_grads_and_vars=True,\n",
    "        emit_policy_info=policy_utilities.InfoFields.PREDICTED_REWARDS_MEAN)\n",
    "!mkdir experiments/\n",
    "!mkdir ../experiments/neural_dcn3_100_steps\n",
    "!rm -R ../experiments/neural_dcn3_100_steps/*\n",
    "trainer.train(dcn3_100_step_agent, env, 450, 100, \"../experiments/neural_dcn3_100_steps/\")\n"
   ]
  },
  {
   "cell_type": "code",
   "execution_count": null,
   "id": "397b43ca",
   "metadata": {},
   "outputs": [],
   "source": [
    "tf.random.set_seed(\n",
    "    44444\n",
    ")\n",
    "np.random.seed(\n",
    "    44444\n",
    ")\n",
    "\n",
    "dcn3_network = ann.get_dcn_network(input_shape, cross_num=3)\n",
    "encoding_shape = dcn3_network.model.layers[-1].output_shape[1]\n",
    "env = environment.make_env(obd_path=obd_path, output_shape=input_shape, sample_rate=sample_rate, batch_size=batch_size)\n",
    "dcn3_50_step_agent = neural_linucb_agent.NeuralLinUCBAgent(\n",
    "        time_step_spec=env.time_step_spec(),\n",
    "        action_spec=env.action_spec(),\n",
    "        encoding_network=dcn3_network,\n",
    "        encoding_network_num_train_steps=50,\n",
    "        encoding_dim=encoding_shape,\n",
    "        optimizer=tf.compat.v1.train.AdamOptimizer(learning_rate=0.05),\n",
    "        alpha=1.0,\n",
    "        gamma=1.0,\n",
    "        epsilon_greedy=0.5,\n",
    "        debug_summaries=True,\n",
    "        summarize_grads_and_vars=True,\n",
    "        emit_policy_info=policy_utilities.InfoFields.PREDICTED_REWARDS_MEAN)\n",
    "!mkdir experiments/\n",
    "!mkdir ../experiments/neural_dcn3_50_steps\n",
    "!rm -R ../experiments/neural_dcn3_50_steps/*\n",
    "trainer.train(dcn3_50_step_agent, env, 450, 100, \"../experiments/neural_dcn3_50_steps/\")\n"
   ]
  },
  {
   "cell_type": "code",
   "execution_count": null,
   "metadata": {},
   "outputs": [],
   "source": [
    "tf.random.set_seed(\n",
    "    44444\n",
    ")\n",
    "np.random.seed(\n",
    "    44444\n",
    ")\n",
    "\n",
    "wnd5_network = ann.get_wide_deep_network(input_shape, layers=(4096, 2048, 1024, 128, 128))\n",
    "encoding_shape = wnd5_network.model.layers[-1].output_shape[1]\n",
    "env = environment.make_env(obd_path=obd_path, output_shape=input_shape, sample_rate=sample_rate, batch_size=batch_size)\n",
    "wnd5_100_step_agent = neural_linucb_agent.NeuralLinUCBAgent(\n",
    "        time_step_spec=env.time_step_spec(),\n",
    "        action_spec=env.action_spec(),\n",
    "        encoding_network=wnd5_network,\n",
    "        encoding_network_num_train_steps=100,\n",
    "        encoding_dim=encoding_shape,\n",
    "        optimizer=tf.compat.v1.train.AdamOptimizer(learning_rate=0.05),\n",
    "        alpha=1.0,\n",
    "        gamma=1.0,\n",
    "        epsilon_greedy=0.5,\n",
    "        debug_summaries=True,\n",
    "        summarize_grads_and_vars=True,\n",
    "        emit_policy_info=policy_utilities.InfoFields.PREDICTED_REWARDS_MEAN)\n",
    "!mkdir experiments/\n",
    "!mkdir ../experiments/neural_wnd5_100_steps\n",
    "!rm -R ../experiments/neural_wnd5_100_steps/*\n",
    "trainer.train(wnd5_100_step_agent, env, 450, 100, \"../experiments/neural_wnd5_100_steps/\")\n"
   ]
  },
  {
   "cell_type": "code",
   "execution_count": null,
   "metadata": {},
   "outputs": [],
   "source": [
    "tf.random.set_seed(\n",
    "    44444\n",
    ")\n",
    "np.random.seed(\n",
    "    44444\n",
    ")\n",
    "\n",
    "wnd5_network = ann.get_wide_deep_network(input_shape, layers=(4096, 2048, 1024, 128, 128))\n",
    "encoding_shape = wnd5_network.model.layers[-1].output_shape[1]\n",
    "env = environment.make_env(obd_path=obd_path, output_shape=input_shape, sample_rate=sample_rate, batch_size=batch_size)\n",
    "wnd5_50_step_agent = neural_linucb_agent.NeuralLinUCBAgent(\n",
    "        time_step_spec=env.time_step_spec(),\n",
    "        action_spec=env.action_spec(),\n",
    "        encoding_network=wnd5_network,\n",
    "        encoding_network_num_train_steps=50,\n",
    "        encoding_dim=encoding_shape,\n",
    "        optimizer=tf.compat.v1.train.AdamOptimizer(learning_rate=0.05),\n",
    "        alpha=1.0,\n",
    "        gamma=1.0,\n",
    "        epsilon_greedy=0.5,\n",
    "        debug_summaries=True,\n",
    "        summarize_grads_and_vars=True,\n",
    "        emit_policy_info=policy_utilities.InfoFields.PREDICTED_REWARDS_MEAN)\n",
    "!mkdir experiments/\n",
    "!mkdir ../experiments/neural_wnd5_50_steps\n",
    "!rm -R ../experiments/neural_wnd5_50_steps/*\n",
    "trainer.train(wnd5_50_step_agent, env, 450, 100, \"../experiments/neural_wnd5_50_steps/\")\n"
   ]
  },
  {
   "cell_type": "code",
   "execution_count": null,
   "metadata": {},
   "outputs": [],
   "source": [
    "tf.random.set_seed(\n",
    "    44444\n",
    ")\n",
    "np.random.seed(\n",
    "    44444\n",
    ")\n",
    "\n",
    "wnd3_network = ann.get_wide_deep_network(input_shape, layers=(4096, 128, 128))\n",
    "encoding_shape = wnd3_network.model.layers[-1].output_shape[1]\n",
    "env = environment.make_env(obd_path=obd_path, output_shape=input_shape, sample_rate=sample_rate, batch_size=batch_size)\n",
    "wnd3_100_step_agent = neural_linucb_agent.NeuralLinUCBAgent(\n",
    "        time_step_spec=env.time_step_spec(),\n",
    "        action_spec=env.action_spec(),\n",
    "        encoding_network=wnd3_network,\n",
    "        encoding_network_num_train_steps=100,\n",
    "        encoding_dim=encoding_shape,\n",
    "        optimizer=tf.compat.v1.train.AdamOptimizer(learning_rate=0.05),\n",
    "        alpha=1.0,\n",
    "        gamma=1.0,\n",
    "        epsilon_greedy=0.5,\n",
    "        debug_summaries=True,\n",
    "        summarize_grads_and_vars=True,\n",
    "        emit_policy_info=policy_utilities.InfoFields.PREDICTED_REWARDS_MEAN)\n",
    "!mkdir experiments/\n",
    "!mkdir ../experiments/neural_wnd3_100_steps\n",
    "!rm -R ../experiments/neural_wnd3_100_steps/*\n",
    "trainer.train(wnd3_100_step_agent, env, 450, 100, \"../experiments/neural_wnd3_100_steps/\")\n"
   ]
  },
  {
   "cell_type": "code",
   "execution_count": null,
   "metadata": {},
   "outputs": [],
   "source": [
    "tf.random.set_seed(\n",
    "    44444\n",
    ")\n",
    "np.random.seed(\n",
    "    44444\n",
    ")\n",
    "\n",
    "wnd3_network = ann.get_wide_deep_network(input_shape, layers=(4096, 128, 128))\n",
    "encoding_shape = wnd3_network.model.layers[-1].output_shape[1]\n",
    "env = environment.make_env(obd_path=obd_path, output_shape=input_shape, sample_rate=sample_rate, batch_size=batch_size)\n",
    "wnd3_50_step_agent = neural_linucb_agent.NeuralLinUCBAgent(\n",
    "        time_step_spec=env.time_step_spec(),\n",
    "        action_spec=env.action_spec(),\n",
    "        encoding_network=wnd3_network,\n",
    "        encoding_network_num_train_steps=50,\n",
    "        encoding_dim=encoding_shape,\n",
    "        optimizer=tf.compat.v1.train.AdamOptimizer(learning_rate=0.05),\n",
    "        alpha=1.0,\n",
    "        gamma=1.0,\n",
    "        epsilon_greedy=0.5,\n",
    "        debug_summaries=True,\n",
    "        summarize_grads_and_vars=True,\n",
    "        emit_policy_info=policy_utilities.InfoFields.PREDICTED_REWARDS_MEAN)\n",
    "!mkdir experiments/\n",
    "!mkdir ../experiments/neural_wnd3_50_steps\n",
    "!rm -R ../experiments/neural_wnd3_50_steps/*\n",
    "trainer.train(wnd3_50_step_agent, env, 450, 100, \"../experiments/neural_wnd3_50_steps/\")\n"
   ]
  },
  {
   "cell_type": "code",
   "execution_count": null,
   "metadata": {},
   "outputs": [],
   "source": []
  }
 ],
 "metadata": {
  "hide_input": false,
  "kernelspec": {
   "display_name": "Python 3",
   "language": "python",
   "name": "python3"
  },
  "language_info": {
   "codemirror_mode": {
    "name": "ipython",
    "version": 3
   },
   "file_extension": ".py",
   "mimetype": "text/x-python",
   "name": "python",
   "nbconvert_exporter": "python",
   "pygments_lexer": "ipython3",
   "version": "3.7.9"
  }
 },
 "nbformat": 4,
 "nbformat_minor": 5
}